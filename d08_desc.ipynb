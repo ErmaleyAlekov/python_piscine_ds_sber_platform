{
 "cells": [
  {
   "cell_type": "markdown",
   "metadata": {},
   "source": [
    "# Задание 1. Готовим обучающую выборку\n",
    "\n",
    "Нам требуется подготовить модель, которая разделяет фотографии на две категории, в зависимости от того, что на них нарисовано. Будем использовать сверточную нейросеть для этого.\n",
    "\n",
    "У нас есть набор фотографий кошек и собак. Подготовим нейронку, которая будет уметь классифицировать фотографии на те, на которых изображена кошка, и те, на которых изображена собака.\n",
    "\n",
    "Структура папки с фотографиями следующая:\n",
    "```\n",
    "dataset\n",
    "|- cats\n",
    "|- dogs\n",
    "```\n",
    "Разделите изображения на тренировочную и тестовую выборки в соотношении 80/20. Сохраните их в соответствии со следующей структурой папок:\n",
    "```\n",
    "dataset/animals\n",
    "|- train\n",
    "|  |- cats\n",
    "|  |- dogs\n",
    "|\n",
    "|- test\n",
    "|  |- cats\n",
    "|  |- dogs\n",
    "```\n",
    "Сымитируем ситуацию, когда нам регулярно приходят новые изображения, и нам нужно дообучать модель. Поэтому для раскладывания картинок по папкам **нужно написать функцию**. Очищать исходные папки не нужно."
   ]
  },
  {
   "cell_type": "code",
   "execution_count": 65,
   "metadata": {},
   "outputs": [
    {
     "name": "stdout",
     "output_type": "stream",
     "text": [
      "0\n"
     ]
    }
   ],
   "source": [
    "import os\n",
    "import shutil\n",
    "\n",
    "def train_test_split_images(str):\n",
    "    \"\"\"функция принимает аргумент - адрес корневой папку с изображениями,\n",
    "    берет изображения из подпапок этой папки и раскладывает по папкам\n",
    "    из описания задания\"\"\"\n",
    "    try:\n",
    "        dir = os.listdir(str)\n",
    "        animals = dir.index('animals')\n",
    "    except FileNotFoundError:\n",
    "        print('Системе не удается найти указанный путь:', str)\n",
    "        return -1\n",
    "    except ValueError:\n",
    "        os.mkdir(str + '\\\\animals')\n",
    "    try:\n",
    "        os.mkdir(str + '\\\\animals\\\\test')\n",
    "    except FileExistsError:\n",
    "        animals_dirs = ''\n",
    "    try:\n",
    "        os.mkdir(str + '\\\\animals\\\\train')\n",
    "    except FileExistsError:\n",
    "        animals_dirs = ''\n",
    "    try:\n",
    "        cats = 0\n",
    "        cats = dir.index('cats')\n",
    "        try:\n",
    "            os.mkdir(str + '\\\\animals\\\\test\\\\cats')\n",
    "        except FileExistsError:\n",
    "            animals_dirs = ''\n",
    "        try:\n",
    "            os.mkdir(str + '\\\\animals\\\\train\\\\cats')\n",
    "        except FileExistsError:\n",
    "            animals_dirs = ''\n",
    "        dir_cats = os.listdir(str + '\\\\cats')\n",
    "        if len(dir_cats) == 0:\n",
    "            dir_cats.index('12312dfsdfsdfsdfsdf')\n",
    "        for i in range(0,len(dir_cats)):\n",
    "            if i < len(dir_cats) * 0.8:\n",
    "                shutil.copy(str + '\\\\cats\\\\' + dir_cats[i], str + '\\\\animals\\\\train\\\\cats\\\\')\n",
    "            else:\n",
    "                shutil.copy(str + '\\\\cats\\\\' + dir_cats[i], str + '\\\\animals\\\\test\\\\cats\\\\')\n",
    "    except ValueError:\n",
    "        print('Нет данных для обучения категории cats')\n",
    "    try:\n",
    "        dogs = 0\n",
    "        dogs = dir.index('dogs')\n",
    "        try:\n",
    "            os.mkdir(str + '\\\\animals\\\\test\\\\dogs')\n",
    "        except FileExistsError:\n",
    "            animals_dirs = ''\n",
    "        try:\n",
    "            os.mkdir(str + '\\\\animals\\\\train\\\\dogs')\n",
    "        except FileExistsError:\n",
    "            animals_dirs = ''\n",
    "        dir_dogs = os.listdir(str + '\\\\dogs')\n",
    "        if len(dir_dogs) == 0:\n",
    "            dir_dogs.index('12312dfsdfsdfsdfsdf')\n",
    "        for i in range(0,len(dir_dogs)):\n",
    "            if i < len(dir_dogs) * 0.8:\n",
    "                shutil.copy(str + '\\\\dogs\\\\' + dir_dogs[i], str + '\\\\animals\\\\train\\\\dogs\\\\' + dir_dogs[i])\n",
    "            else:\n",
    "                shutil.copy(str + '\\\\dogs\\\\' + dir_dogs[i], str + '\\\\animals\\\\test\\\\dogs\\\\' + dir_dogs[i])\n",
    "    except ValueError:\n",
    "        print('Нет данных для обучения категории dogs')\n",
    "    if cats == 0 and dogs == 0:\n",
    "        return -1\n",
    "    return 0\n",
    "print(train_test_split_images('C:\\pythonDS\\d08\\datasets'))"
   ]
  },
  {
   "cell_type": "markdown",
   "metadata": {},
   "source": [
    "# Задание 2. Переиспользование топологий нейронных сетей\n",
    "\n",
    "Построим модель. Ваша задача - найти в интернете архитектуру VGG19 и описать нейросеть по этой архитектуре через keras. Рекомендую ориентироваться на архитектуру, описанную в официальном репозитории кераса на github.com. Ссылку на него здесь не приведена сознательно, поскольку большая часть работы программиста заключается в умении гуглить, и этот навык лучше тренировать сразу."
   ]
  },
  {
   "cell_type": "code",
   "execution_count": 170,
   "metadata": {},
   "outputs": [
    {
     "name": "stdout",
     "output_type": "stream",
     "text": [
      "Found 1600 images belonging to 2 classes.\n",
      "Found 400 images belonging to 2 classes.\n"
     ]
    }
   ],
   "source": [
    "import numpy as np\n",
    "np.random.seed(123)  # для воспроизводимости\n",
    "from keras.models import Sequential\n",
    "from keras.layers import ZeroPadding2D, Convolution2D, MaxPooling2D, Dropout, Flatten, Activation, Dense\n",
    "from keras.utils import np_utils\n",
    "from keras.preprocessing.image import img_to_array\n",
    "from keras.applications import imagenet_utils\n",
    "from keras.preprocessing.image import ImageDataGenerator\n",
    "from keras.applications.vgg19 import VGG19\n",
    "from keras.models import Sequential\n",
    "from keras.layers import Dense\n",
    "import warnings\n",
    "warnings.filterwarnings('ignore')\n",
    "\n",
    "# размер для ResNet'a\n",
    "img_width, img_height = 224, 224\n",
    "\n",
    "# корневая папка\n",
    "root_dir = r'C:\\\\pythonDS\\\\d08\\\\datasets\\\\'  # введите сюда адрес корневой папки\n",
    "# папка с тренировочными картинками\n",
    "train_dir = os.path.join(root_dir, 'animals', 'train')\n",
    "# и папка с тестовыми\n",
    "test_dir = os.path.join(root_dir, 'animals', 'test')\n",
    "# размер батча\n",
    "batch_size = 16\n",
    "\n",
    "train_datagen = ImageDataGenerator(\n",
    "    rescale=1. / 255,  # приведем значения пикселей к 0-1\n",
    "    shear_range=0.2,   # максимальный угол поворота изображений\n",
    "    zoom_range=0.2,    # максимальное приближение изображений\n",
    "    horizontal_flip=True)  # используем повороты изображений для обогащения обучающей выборки\n",
    "\n",
    "test_datagen = ImageDataGenerator(rescale=1. / 255)  # замер качества мы должны проводить на оригинальных изображениях, \n",
    "                                                     # поэтому тестовую выборку мы не будем вращать и приближать\n",
    "train_generator = train_datagen.flow_from_directory(\n",
    "    train_dir,\n",
    "    target_size=(img_width, img_height),\n",
    "    batch_size=batch_size,\n",
    "    class_mode='categorical')\n",
    "test_generator = test_datagen.flow_from_directory(\n",
    "    test_dir, \n",
    "    target_size=(img_width, img_height),\n",
    "    batch_size=batch_size,\n",
    "    class_mode='categorical')"
   ]
  },
  {
   "cell_type": "code",
   "execution_count": 171,
   "metadata": {},
   "outputs": [],
   "source": [
    "def vlg_34():\n",
    "    from keras import backend\n",
    "    from keras.applications import imagenet_utils\n",
    "    from keras.engine import training\n",
    "    from keras.layers import VersionAwareLayers\n",
    "    from keras.utils import data_utils\n",
    "    layers = VersionAwareLayers()\n",
    "    input_shape = imagenet_utils.obtain_input_shape(\n",
    "        None,default_size=224,min_size=32,\n",
    "        data_format=backend.image_data_format(),\n",
    "        require_flatten=True,weights='imagenet')\n",
    "    img_input = layers.Input(shape=input_shape)\n",
    "    x = layers.Conv2D(64, (3, 3), activation='relu', padding='same', name='block1_conv1')(img_input)\n",
    "    x = layers.Conv2D(64, (3, 3), activation='relu', padding='same', name='block1_conv2')(x)\n",
    "    x = layers.MaxPooling2D((2, 2), strides=(2, 2), name='block1_pool')(x)\n",
    "    x = layers.Conv2D(128, (3, 3), activation='relu', padding='same', name='block2_conv1')(x)\n",
    "    x = layers.Conv2D(128, (3, 3), activation='relu', padding='same', name='block2_conv2')(x)\n",
    "    x = layers.MaxPooling2D((2, 2), strides=(2, 2), name='block2_pool')(x)\n",
    "    x = layers.Conv2D(256, (3, 3), activation='relu', padding='same', name='block3_conv1')(x)\n",
    "    x = layers.Conv2D(256, (3, 3), activation='relu', padding='same', name='block3_conv2')(x)\n",
    "    x = layers.Conv2D(256, (3, 3), activation='relu', padding='same', name='block3_conv3')(x)\n",
    "    x = layers.Conv2D(256, (3, 3), activation='relu', padding='same', name='block3_conv4')(x)\n",
    "    x = layers.MaxPooling2D((2, 2), strides=(2, 2), name='block3_pool')(x)\n",
    "    x = layers.Conv2D(512, (3, 3), activation='relu', padding='same', name='block4_conv1')(x)\n",
    "    x = layers.Conv2D(512, (3, 3), activation='relu', padding='same', name='block4_conv2')(x)\n",
    "    x = layers.Conv2D(512, (3, 3), activation='relu', padding='same', name='block4_conv3')(x)\n",
    "    x = layers.Conv2D(512, (3, 3), activation='relu', padding='same', name='block4_conv4')(x)\n",
    "    x = layers.MaxPooling2D((2, 2), strides=(2, 2), name='block4_pool')(x)\n",
    "    x = layers.Conv2D(512, (3, 3), activation='relu', padding='same', name='block5_conv1')(x)\n",
    "    x = layers.Conv2D(512, (3, 3), activation='relu', padding='same', name='block5_conv2')(x)\n",
    "    x = layers.Conv2D(512, (3, 3), activation='relu', padding='same', name='block5_conv3')(x)\n",
    "    x = layers.Conv2D(512, (3, 3), activation='relu', padding='same', name='block5_conv4')(x)\n",
    "    x = layers.MaxPooling2D((2, 2), strides=(2, 2), name='block5_pool')(x)\n",
    "    x = layers.Flatten(name='flatten')(x)\n",
    "    x = layers.Dense(4096, activation='relu', name='fc1')(x)\n",
    "    x = layers.Dense(4096, activation='relu', name='fc2')(x)\n",
    "    imagenet_utils.validate_activation('softmax', 'imagenet')\n",
    "    x = layers.Dense(1000, activation='softmax',\n",
    "                        name='predictions')(x)\n",
    "    model2 = training.Model(img_input, x, name='vgg19')\n",
    "    model2.load_weights(data_utils.get_file(\n",
    "            'vgg19_weights_tf_dim_ordering_tf_kernels.h5',\n",
    "            'https://storage.googleapis.com/tensorflow/keras-applications/'\n",
    "                'vgg19/vgg19_weights_tf_dim_ordering_tf_kernels.h5',\n",
    "            cache_subdir='models',\n",
    "            file_hash='cbe5617147190e668d6c5d5026f83318'))\n",
    "    return model2\n",
    "model = Sequential()\n",
    "model.add(vlg_34())\n",
    "model.add(Dense(2, activation='softmax'))\n",
    "model.compile(optimizer='sgd', loss='categorical_crossentropy',metrics=['accuracy'])\n",
    "model.save_weights(os.path.join(root_dir,'vgg19_weights_tf_dim_ordering_tf_kernels.h5'))"
   ]
  },
  {
   "cell_type": "markdown",
   "metadata": {},
   "source": [
    "Подгрузим веса модели, подобранные экспертами до нас. Если на предыдущем этапе вы создали неправильную архитектуру, следующая ячейка упадет с ошибкой."
   ]
  },
  {
   "cell_type": "code",
   "execution_count": 172,
   "metadata": {},
   "outputs": [],
   "source": [
    "model.load_weights(os.path.join(root_dir, 'vgg19_weights_tf_dim_ordering_tf_kernels.h5'))"
   ]
  },
  {
   "cell_type": "markdown",
   "metadata": {},
   "source": [
    "# Задание 3. Обучение сети\n",
    "\n",
    "Обучите 20 эпох сети, замеряя качество после каждой эпохи. Постройте график зависимости качества классификации от количества эпох сети. На какой эпохе качество модели превысит 0.45?"
   ]
  },
  {
   "cell_type": "code",
   "execution_count": 173,
   "metadata": {},
   "outputs": [
    {
     "name": "stdout",
     "output_type": "stream",
     "text": [
      "Epoch 1/20\n",
      "15/15 [==============================] - 381s 26s/step - loss: 0.6928 - accuracy: 0.5125 - val_loss: 0.6932 - val_accuracy: 0.4875\n",
      "Epoch 2/20\n",
      "15/15 [==============================] - 391s 26s/step - loss: 0.6932 - accuracy: 0.4917 - val_loss: 0.6925 - val_accuracy: 0.5083\n",
      "Epoch 3/20\n",
      "15/15 [==============================] - 389s 26s/step - loss: 0.6928 - accuracy: 0.4958 - val_loss: 0.6928 - val_accuracy: 0.5667\n",
      "Epoch 4/20\n",
      "15/15 [==============================] - 385s 26s/step - loss: 0.6926 - accuracy: 0.5375 - val_loss: 0.6924 - val_accuracy: 0.5625\n",
      "Epoch 5/20\n",
      "15/15 [==============================] - 388s 26s/step - loss: 0.6921 - accuracy: 0.6083 - val_loss: 0.6922 - val_accuracy: 0.5708\n",
      "Epoch 6/20\n",
      "15/15 [==============================] - 384s 26s/step - loss: 0.6916 - accuracy: 0.5792 - val_loss: 0.6921 - val_accuracy: 0.5625\n",
      "Epoch 7/20\n",
      "15/15 [==============================] - 388s 26s/step - loss: 0.6890 - accuracy: 0.6417 - val_loss: 0.6905 - val_accuracy: 0.5542\n",
      "Epoch 8/20\n",
      "15/15 [==============================] - 388s 26s/step - loss: 0.6898 - accuracy: 0.6000 - val_loss: 0.6903 - val_accuracy: 0.5708\n",
      "Epoch 9/20\n",
      "15/15 [==============================] - 387s 26s/step - loss: 0.6894 - accuracy: 0.6125 - val_loss: 0.6897 - val_accuracy: 0.6042\n",
      "Epoch 10/20\n",
      "15/15 [==============================] - 384s 26s/step - loss: 0.6879 - accuracy: 0.6417 - val_loss: 0.6886 - val_accuracy: 0.5417\n",
      "Epoch 11/20\n",
      "15/15 [==============================] - 383s 26s/step - loss: 0.6863 - accuracy: 0.6458 - val_loss: 0.6867 - val_accuracy: 0.5833\n",
      "Epoch 12/20\n",
      "15/15 [==============================] - 388s 26s/step - loss: 0.6830 - accuracy: 0.6667 - val_loss: 0.6848 - val_accuracy: 0.6542\n",
      "Epoch 13/20\n",
      "15/15 [==============================] - 389s 26s/step - loss: 0.6834 - accuracy: 0.6708 - val_loss: 0.6839 - val_accuracy: 0.5875\n",
      "Epoch 14/20\n",
      "15/15 [==============================] - 387s 26s/step - loss: 0.6780 - accuracy: 0.7000 - val_loss: 0.6794 - val_accuracy: 0.6500\n",
      "Epoch 15/20\n",
      "15/15 [==============================] - 392s 27s/step - loss: 0.6721 - accuracy: 0.7042 - val_loss: 0.6816 - val_accuracy: 0.5792\n",
      "Epoch 16/20\n",
      "15/15 [==============================] - 378s 26s/step - loss: 0.6682 - accuracy: 0.7000 - val_loss: 0.6508 - val_accuracy: 0.8125\n",
      "Epoch 17/20\n",
      "15/15 [==============================] - 384s 26s/step - loss: 0.6457 - accuracy: 0.7958 - val_loss: 0.6614 - val_accuracy: 0.6792\n",
      "Epoch 18/20\n",
      "15/15 [==============================] - 380s 26s/step - loss: 0.6411 - accuracy: 0.7792 - val_loss: 0.6287 - val_accuracy: 0.8208\n",
      "Epoch 19/20\n",
      "15/15 [==============================] - 379s 26s/step - loss: 0.6350 - accuracy: 0.7708 - val_loss: 0.6076 - val_accuracy: 0.8667\n",
      "Epoch 20/20\n",
      "15/15 [==============================] - 388s 26s/step - loss: 0.6146 - accuracy: 0.8042 - val_loss: 0.6005 - val_accuracy: 0.8583\n",
      "[0.512499988079071, 0.49166667461395264, 0.4958333373069763, 0.5375000238418579, 0.6083333492279053, 0.5791666507720947, 0.6416666507720947, 0.6000000238418579, 0.612500011920929, 0.6416666507720947, 0.6458333134651184, 0.6666666865348816, 0.6708333492279053, 0.699999988079071, 0.7041666507720947, 0.699999988079071, 0.7958333492279053, 0.7791666388511658, 0.7708333134651184, 0.8041666746139526]\n",
      "[0.48750001192092896, 0.5083333253860474, 0.5666666626930237, 0.5625, 0.5708333253860474, 0.5625, 0.5541666746139526, 0.5708333253860474, 0.6041666865348816, 0.5416666865348816, 0.5833333134651184, 0.6541666388511658, 0.5874999761581421, 0.6499999761581421, 0.5791666507720947, 0.8125, 0.6791666746139526, 0.8208333253860474, 0.8666666746139526, 0.8583333492279053]\n"
     ]
    }
   ],
   "source": [
    "log = model.fit(\n",
    "    train_generator,\n",
    "    steps_per_epoch=250 // batch_size,\n",
    "    epochs=20,\n",
    "    validation_data=test_generator,\n",
    "    validation_steps= 250 // batch_size,\n",
    "    workers=3)\n",
    "acc_train = log.history['accuracy']\n",
    "print(acc_train)\n",
    "acc_test = log.history['val_accuracy']\n",
    "print(acc_test)"
   ]
  },
  {
   "cell_type": "code",
   "execution_count": 174,
   "metadata": {},
   "outputs": [
    {
     "data": {
      "image/png": "[encoded data removed]",
      "text/plain": [
       "<Figure size 432x288 with 1 Axes>"
      ]
     },
     "metadata": {
      "needs_background": "light"
     },
     "output_type": "display_data"
    },
    {
     "data": {
      "image/png": "[encoded data removed]",
      "text/plain": [
       "<Figure size 432x288 with 1 Axes>"
      ]
     },
     "metadata": {
      "needs_background": "light"
     },
     "output_type": "display_data"
    }
   ],
   "source": [
    "import matplotlib.pyplot as plt\n",
    "plt.bar(['1','2','3','4','5','6','7','8','9','10','11','12','13','14','15','16','17','18','19','20'], acc_train)\n",
    "plt.title('VGG19_train')\n",
    "plt.show()\n",
    "plt.bar(['1','2','3','4','5','6','7','8','9','10','11','12','13','14','15','16','17','18','19','20'], acc_test)\n",
    "plt.title('VGG19_test')\n",
    "plt.show()"
   ]
  },
  {
   "cell_type": "markdown",
   "metadata": {},
   "source": [
    "# Задание 4. Готовые архитектуры нейросетей\n",
    "\n",
    "В keras описаны некоторые популярные архитектуры нейросетей. При этом их можно использовать в качестве одного из слоев другой нейросети. В частности, есть готовый класс, в котором описана VGG19 с теми весами, которые мы подгружали из файла (ImageNet).\n",
    "Изучите, какие нейросети также популярны для классификации изображений. Выберите 2 архитектуры, постройте модели с их использованием, выберите наилучшую по качеству на 20 эпохах и лучшую по скорости обучения."
   ]
  },
  {
   "cell_type": "code",
   "execution_count": 175,
   "metadata": {},
   "outputs": [],
   "source": [
    "from keras.applications.resnet_v2 import ResNet152V2\n",
    "m = Sequential()\n",
    "m.add(ResNet152V2(weights='imagenet'))\n",
    "m.add(Dense(2, activation='softmax')) \n",
    "m.compile(optimizer='sgd', loss='categorical_crossentropy',metrics=['accuracy'])\n",
    "m.save_weights(os.path.join(root_dir,'resnet_weights_tf_dim_ordering_tf_kernels.h5'))"
   ]
  },
  {
   "cell_type": "code",
   "execution_count": 176,
   "metadata": {},
   "outputs": [
    {
     "name": "stdout",
     "output_type": "stream",
     "text": [
      "Epoch 1/20\n",
      "15/15 [==============================] - 325s 21s/step - loss: 0.6915 - accuracy: 0.6375 - val_loss: 0.6944 - val_accuracy: 0.4792\n",
      "Epoch 2/20\n",
      "15/15 [==============================] - 301s 20s/step - loss: 0.6920 - accuracy: 0.5792 - val_loss: 0.6926 - val_accuracy: 0.5250\n",
      "Epoch 3/20\n",
      "15/15 [==============================] - 305s 21s/step - loss: 0.6913 - accuracy: 0.6125 - val_loss: 0.6922 - val_accuracy: 0.5458\n",
      "Epoch 4/20\n",
      "15/15 [==============================] - 303s 20s/step - loss: 0.6919 - accuracy: 0.5417 - val_loss: 0.6910 - val_accuracy: 0.5750\n",
      "Epoch 5/20\n",
      "15/15 [==============================] - 300s 20s/step - loss: 0.6912 - accuracy: 0.5458 - val_loss: 0.6909 - val_accuracy: 0.4500\n",
      "Epoch 6/20\n",
      "15/15 [==============================] - 297s 20s/step - loss: 0.6920 - accuracy: 0.4625 - val_loss: 0.6893 - val_accuracy: 0.5333\n",
      "Epoch 7/20\n",
      "15/15 [==============================] - 301s 20s/step - loss: 0.6917 - accuracy: 0.4875 - val_loss: 0.6903 - val_accuracy: 0.6000\n",
      "Epoch 8/20\n",
      "15/15 [==============================] - 296s 20s/step - loss: 0.6902 - accuracy: 0.6208 - val_loss: 0.6902 - val_accuracy: 0.5708\n",
      "Epoch 9/20\n",
      "15/15 [==============================] - 297s 20s/step - loss: 0.6906 - accuracy: 0.6083 - val_loss: 0.6910 - val_accuracy: 0.5875\n",
      "Epoch 10/20\n",
      "15/15 [==============================] - 296s 20s/step - loss: 0.6914 - accuracy: 0.5583 - val_loss: 0.6903 - val_accuracy: 0.5292\n",
      "Epoch 11/20\n",
      "15/15 [==============================] - 296s 20s/step - loss: 0.6918 - accuracy: 0.5000 - val_loss: 0.6921 - val_accuracy: 0.5583\n",
      "Epoch 12/20\n",
      "15/15 [==============================] - 295s 20s/step - loss: 0.6906 - accuracy: 0.6833 - val_loss: 0.6890 - val_accuracy: 0.6625\n",
      "Epoch 13/20\n",
      "15/15 [==============================] - 297s 20s/step - loss: 0.6904 - accuracy: 0.6792 - val_loss: 0.6907 - val_accuracy: 0.6250\n",
      "Epoch 14/20\n",
      "15/15 [==============================] - 297s 20s/step - loss: 0.6897 - accuracy: 0.7125 - val_loss: 0.6894 - val_accuracy: 0.6792\n",
      "Epoch 15/20\n",
      "15/15 [==============================] - 296s 20s/step - loss: 0.6913 - accuracy: 0.6375 - val_loss: 0.6883 - val_accuracy: 0.6458\n",
      "Epoch 16/20\n",
      "15/15 [==============================] - 301s 20s/step - loss: 0.6902 - accuracy: 0.6750 - val_loss: 0.6895 - val_accuracy: 0.6625\n",
      "Epoch 17/20\n",
      "15/15 [==============================] - 304s 20s/step - loss: 0.6892 - accuracy: 0.7375 - val_loss: 0.6889 - val_accuracy: 0.6708\n",
      "Epoch 18/20\n",
      "15/15 [==============================] - 302s 20s/step - loss: 0.6902 - accuracy: 0.6667 - val_loss: 0.6893 - val_accuracy: 0.6708\n",
      "Epoch 19/20\n",
      "15/15 [==============================] - 301s 20s/step - loss: 0.6893 - accuracy: 0.6458 - val_loss: 0.6888 - val_accuracy: 0.6833\n",
      "Epoch 20/20\n",
      "15/15 [==============================] - 302s 20s/step - loss: 0.6901 - accuracy: 0.6333 - val_loss: 0.6874 - val_accuracy: 0.7083\n",
      "[0.512499988079071, 0.49166667461395264, 0.4958333373069763, 0.5375000238418579, 0.6083333492279053, 0.5791666507720947, 0.6416666507720947, 0.6000000238418579, 0.612500011920929, 0.6416666507720947, 0.6458333134651184, 0.6666666865348816, 0.6708333492279053, 0.699999988079071, 0.7041666507720947, 0.699999988079071, 0.7958333492279053, 0.7791666388511658, 0.7708333134651184, 0.8041666746139526]\n",
      "[0.48750001192092896, 0.5083333253860474, 0.5666666626930237, 0.5625, 0.5708333253860474, 0.5625, 0.5541666746139526, 0.5708333253860474, 0.6041666865348816, 0.5416666865348816, 0.5833333134651184, 0.6541666388511658, 0.5874999761581421, 0.6499999761581421, 0.5791666507720947, 0.8125, 0.6791666746139526, 0.8208333253860474, 0.8666666746139526, 0.8583333492279053]\n"
     ]
    }
   ],
   "source": [
    "log1 = m.fit(\n",
    "    train_generator,\n",
    "    steps_per_epoch=250 // batch_size,\n",
    "    epochs=20,\n",
    "    validation_data=test_generator,\n",
    "    validation_steps= 250 // batch_size,\n",
    "    workers=3)\n",
    "acc_train2 = log.history['accuracy']\n",
    "print(acc_train2)\n",
    "acc_test2 = log.history['val_accuracy']\n",
    "print(acc_test2)"
   ]
  },
  {
   "cell_type": "code",
   "execution_count": 185,
   "metadata": {},
   "outputs": [
    {
     "name": "stdout",
     "output_type": "stream",
     "text": [
      "[0.637499988079071, 0.5791666507720947, 0.612500011920929, 0.5416666865348816, 0.5458333492279053, 0.4625000059604645, 0.48750001192092896, 0.6208333373069763, 0.6083333492279053, 0.5583333373069763, 0.5, 0.6833333373069763, 0.6791666746139526, 0.7124999761581421, 0.637499988079071, 0.675000011920929, 0.737500011920929, 0.6666666865348816, 0.6458333134651184, 0.6333333253860474]\n",
      "[0.4791666567325592, 0.5249999761581421, 0.5458333492279053, 0.574999988079071, 0.44999998807907104, 0.5333333611488342, 0.6000000238418579, 0.5708333253860474, 0.5874999761581421, 0.5291666388511658, 0.5583333373069763, 0.6625000238418579, 0.625, 0.6791666746139526, 0.6458333134651184, 0.6625000238418579, 0.6708333492279053, 0.6708333492279053, 0.6833333373069763, 0.7083333134651184]\n"
     ]
    }
   ],
   "source": [
    "acc_train2 = log1.history['accuracy']\n",
    "acc_test2 = log1.history['val_accuracy']\n",
    "print(acc_train2)\n",
    "print(acc_test2)"
   ]
  },
  {
   "cell_type": "code",
   "execution_count": 186,
   "metadata": {},
   "outputs": [
    {
     "data": {
      "image/png": "[encoded data removed]",
      "text/plain": [
       "<Figure size 432x288 with 1 Axes>"
      ]
     },
     "metadata": {
      "needs_background": "light"
     },
     "output_type": "display_data"
    },
    {
     "data": {
      "image/png": "[encoded data removed]",
      "text/plain": [
       "<Figure size 432x288 with 1 Axes>"
      ]
     },
     "metadata": {
      "needs_background": "light"
     },
     "output_type": "display_data"
    }
   ],
   "source": [
    "import matplotlib.pyplot as plt\n",
    "plt.bar(['1','2','3','4','5','6','7','8','9','10','11','12','13','14','15','16','17','18','19','20'], acc_train2)\n",
    "plt.title('ResNet152V2_train')\n",
    "plt.show()\n",
    "plt.bar(['1','2','3','4','5','6','7','8','9','10','11','12','13','14','15','16','17','18','19','20'], acc_test2)\n",
    "plt.title('ResNet152V2_test')\n",
    "plt.show()"
   ]
  },
  {
   "cell_type": "code",
   "execution_count": 178,
   "metadata": {},
   "outputs": [],
   "source": [
    "from keras.applications.densenet import DenseNet201\n",
    "m2 = Sequential()\n",
    "m2.add(DenseNet201(weights='imagenet'))\n",
    "m2.add(Dense(2, activation='softmax')) \n",
    "m2.compile(optimizer='sgd', loss='categorical_crossentropy',metrics=['accuracy'])\n",
    "m2.save_weights(os.path.join(root_dir,'densenet201_weights_tf_dim_ordering_tf_kernels.h5'))"
   ]
  },
  {
   "cell_type": "code",
   "execution_count": 179,
   "metadata": {},
   "outputs": [
    {
     "name": "stdout",
     "output_type": "stream",
     "text": [
      "Epoch 1/20\n",
      "15/15 [==============================] - 229s 14s/step - loss: 0.6911 - accuracy: 0.5583 - val_loss: 0.6941 - val_accuracy: 0.4542\n",
      "Epoch 2/20\n",
      "15/15 [==============================] - 205s 14s/step - loss: 0.6914 - accuracy: 0.5667 - val_loss: 0.6928 - val_accuracy: 0.4750\n",
      "Epoch 3/20\n",
      "15/15 [==============================] - 205s 14s/step - loss: 0.6894 - accuracy: 0.6667 - val_loss: 0.6921 - val_accuracy: 0.5583\n",
      "Epoch 4/20\n",
      "15/15 [==============================] - 206s 14s/step - loss: 0.6900 - accuracy: 0.6333 - val_loss: 0.6922 - val_accuracy: 0.5458\n",
      "Epoch 5/20\n",
      "15/15 [==============================] - 205s 14s/step - loss: 0.6885 - accuracy: 0.6667 - val_loss: 0.6913 - val_accuracy: 0.5708\n",
      "Epoch 6/20\n",
      "15/15 [==============================] - 206s 14s/step - loss: 0.6875 - accuracy: 0.6125 - val_loss: 0.6913 - val_accuracy: 0.5542\n",
      "Epoch 7/20\n",
      "15/15 [==============================] - 208s 14s/step - loss: 0.6893 - accuracy: 0.5875 - val_loss: 0.6885 - val_accuracy: 0.6417\n",
      "Epoch 8/20\n",
      "15/15 [==============================] - 207s 14s/step - loss: 0.6886 - accuracy: 0.6250 - val_loss: 0.6899 - val_accuracy: 0.6417\n",
      "Epoch 9/20\n",
      "15/15 [==============================] - 206s 14s/step - loss: 0.6879 - accuracy: 0.7375 - val_loss: 0.6897 - val_accuracy: 0.6375\n",
      "Epoch 10/20\n",
      "15/15 [==============================] - 205s 14s/step - loss: 0.6865 - accuracy: 0.7458 - val_loss: 0.6892 - val_accuracy: 0.6333\n",
      "Epoch 11/20\n",
      "15/15 [==============================] - 207s 14s/step - loss: 0.6856 - accuracy: 0.6625 - val_loss: 0.6884 - val_accuracy: 0.5417\n",
      "Epoch 12/20\n",
      "15/15 [==============================] - 208s 14s/step - loss: 0.6856 - accuracy: 0.5833 - val_loss: 0.6907 - val_accuracy: 0.4292\n",
      "Epoch 13/20\n",
      "15/15 [==============================] - 209s 14s/step - loss: 0.6859 - accuracy: 0.5583 - val_loss: 0.6877 - val_accuracy: 0.6167\n",
      "Epoch 14/20\n",
      "15/15 [==============================] - 208s 14s/step - loss: 0.6857 - accuracy: 0.7292 - val_loss: 0.6865 - val_accuracy: 0.7250\n",
      "Epoch 15/20\n",
      "15/15 [==============================] - 206s 14s/step - loss: 0.6852 - accuracy: 0.7875 - val_loss: 0.6871 - val_accuracy: 0.7583\n",
      "Epoch 16/20\n",
      "15/15 [==============================] - 206s 14s/step - loss: 0.6838 - accuracy: 0.8208 - val_loss: 0.6858 - val_accuracy: 0.7375\n",
      "Epoch 17/20\n",
      "15/15 [==============================] - 206s 14s/step - loss: 0.6835 - accuracy: 0.8417 - val_loss: 0.6854 - val_accuracy: 0.7042\n",
      "Epoch 18/20\n",
      "15/15 [==============================] - 206s 14s/step - loss: 0.6831 - accuracy: 0.7167 - val_loss: 0.6854 - val_accuracy: 0.5833\n",
      "Epoch 19/20\n",
      "15/15 [==============================] - 206s 14s/step - loss: 0.6820 - accuracy: 0.5792 - val_loss: 0.6848 - val_accuracy: 0.5125\n",
      "Epoch 20/20\n",
      "15/15 [==============================] - 205s 14s/step - loss: 0.6812 - accuracy: 0.5667 - val_loss: 0.6836 - val_accuracy: 0.5042\n",
      "[0.512499988079071, 0.49166667461395264, 0.4958333373069763, 0.5375000238418579, 0.6083333492279053, 0.5791666507720947, 0.6416666507720947, 0.6000000238418579, 0.612500011920929, 0.6416666507720947, 0.6458333134651184, 0.6666666865348816, 0.6708333492279053, 0.699999988079071, 0.7041666507720947, 0.699999988079071, 0.7958333492279053, 0.7791666388511658, 0.7708333134651184, 0.8041666746139526]\n",
      "[0.48750001192092896, 0.5083333253860474, 0.5666666626930237, 0.5625, 0.5708333253860474, 0.5625, 0.5541666746139526, 0.5708333253860474, 0.6041666865348816, 0.5416666865348816, 0.5833333134651184, 0.6541666388511658, 0.5874999761581421, 0.6499999761581421, 0.5791666507720947, 0.8125, 0.6791666746139526, 0.8208333253860474, 0.8666666746139526, 0.8583333492279053]\n"
     ]
    }
   ],
   "source": [
    "log2 = m2.fit(\n",
    "    train_generator,\n",
    "    steps_per_epoch=250 // batch_size,\n",
    "    epochs=20,\n",
    "    validation_data=test_generator,\n",
    "    validation_steps= 250 // batch_size,\n",
    "    workers=3)\n",
    "acc_train3 = log.history['accuracy']\n",
    "print(acc_train3)\n",
    "acc_test3 = log.history['val_accuracy']\n",
    "print(acc_test3)"
   ]
  },
  {
   "cell_type": "code",
   "execution_count": 181,
   "metadata": {},
   "outputs": [
    {
     "name": "stdout",
     "output_type": "stream",
     "text": [
      "[0.5583333373069763, 0.5666666626930237, 0.6666666865348816, 0.6333333253860474, 0.6666666865348816, 0.612500011920929, 0.5874999761581421, 0.625, 0.737500011920929, 0.7458333373069763, 0.6625000238418579, 0.5833333134651184, 0.5583333373069763, 0.7291666865348816, 0.7875000238418579, 0.8208333253860474, 0.8416666388511658, 0.7166666388511658, 0.5791666507720947, 0.5666666626930237]\n",
      "[0.4541666805744171, 0.4749999940395355, 0.5583333373069763, 0.5458333492279053, 0.5708333253860474, 0.5541666746139526, 0.6416666507720947, 0.6416666507720947, 0.637499988079071, 0.6333333253860474, 0.5416666865348816, 0.42916667461395264, 0.6166666746139526, 0.7250000238418579, 0.7583333253860474, 0.737500011920929, 0.7041666507720947, 0.5833333134651184, 0.512499988079071, 0.5041666626930237]\n"
     ]
    }
   ],
   "source": [
    "acc_train3 = log2.history['accuracy']\n",
    "acc_test3 = log2.history['val_accuracy']\n",
    "print(acc_train3)\n",
    "print(acc_test3)"
   ]
  },
  {
   "cell_type": "code",
   "execution_count": 182,
   "metadata": {},
   "outputs": [
    {
     "data": {
      "image/png": "[encoded data removed]",
      "text/plain": [
       "<Figure size 432x288 with 1 Axes>"
      ]
     },
     "metadata": {
      "needs_background": "light"
     },
     "output_type": "display_data"
    },
    {
     "data": {
      "image/png": "[encoded data removed]",
      "text/plain": [
       "<Figure size 432x288 with 1 Axes>"
      ]
     },
     "metadata": {
      "needs_background": "light"
     },
     "output_type": "display_data"
    }
   ],
   "source": [
    "import matplotlib.pyplot as plt\n",
    "plt.bar(['1','2','3','4','5','6','7','8','9','10','11','12','13','14','15','16','17','18','19','20'], acc_train3)\n",
    "plt.title('ResNet152V2_train')\n",
    "plt.show()\n",
    "plt.bar(['1','2','3','4','5','6','7','8','9','10','11','12','13','14','15','16','17','18','19','20'], acc_test3)\n",
    "plt.title('ResNet152V2_test')\n",
    "plt.show()"
   ]
  }
 ],
 "metadata": {
  "interpreter": {
   "hash": "34cd8fb75a212ca118be2faa5ebda9fb74a2f6b9d56de15256ec9da1761253ae"
  },
  "kernelspec": {
   "display_name": "Python 3.10.0 64-bit",
   "language": "python",
   "name": "python3"
  },
  "language_info": {
   "codemirror_mode": {
    "name": "ipython",
    "version": 3
   },
   "file_extension": ".py",
   "mimetype": "text/x-python",
   "name": "python",
   "nbconvert_exporter": "python",
   "pygments_lexer": "ipython3",
   "version": "3.10.0"
  },
  "orig_nbformat": 4
 },
 "nbformat": 4,
 "nbformat_minor": 2
}
