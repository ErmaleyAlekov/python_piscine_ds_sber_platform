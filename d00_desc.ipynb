{
  "cells": [
    {
      "cell_type": "markdown",
      "metadata": {
        "id": "Ag6rf9EZTm3J"
      },
      "source": [
        "---\n",
        "\n",
        "# Задание 1. \n",
        "\n",
        "Пришло время написать свою первую программу в ячейке ниже. Вы можете попробовать решить сейчас, или просмотреть обучающий материал до конца. \n",
        "\n",
        "Условие почти такое же, как у рассмотренного выше примера. Требуется определить количество рабочих часов четырех сотрудников работающих по графику 2 через 2 по 12 часов. Первый работник приступает к работе первого числа, второй - второго, третий - третьего, а четвертый - четвертого. Рассматриваемый период - февраль. Праздники отсутствуют. \n",
        "\n",
        "Результатом выполнения кода должна быть информация о том, сколько часов каждый из сотрудников отработал за месяц, а также общее количество отработанных часов.\n",
        "\n",
        "*Рекомендация: Существет множество верных решений поставленной задачи. Не обязательно следовать приведенному выше решению. Проявите креативность!*\n",
        "\n",
        "---"
      ]
    },
    {
      "cell_type": "code",
      "execution_count": null,
      "metadata": {
        "colab": {
          "base_uri": "https://localhost:8080/"
        },
        "id": "Yp-QJPZgTm3J",
        "outputId": "67b724b7-2200-459b-acba-fece7e207641"
      },
      "outputs": [
        {
          "name": "stdout",
          "output_type": "stream",
          "text": [
            "First worker hours: 168\n",
            "Second worker hours: 168\n",
            "Third worker hours: 168\n",
            "Fourth worker hours: 156\n",
            "All workers hours: 660\n"
          ]
        }
      ],
      "source": [
        "\"\"\"Решение задания 1\"\"\"\n",
        "days = 28\n",
        "def hours(start, end):\n",
        "    i = 0\n",
        "    res = 0\n",
        "    j = 2\n",
        "    while start <= end:\n",
        "        i += 1\n",
        "        start += 1\n",
        "        if i == j or j - i == 1:\n",
        "            res += 12\n",
        "        if i == j:\n",
        "            j += 4\n",
        "    return res        \n",
        "first = hours(1,days)\n",
        "second = hours(2,days)\n",
        "third = hours(3,days)\n",
        "fourth = hours(4,days)\n",
        "print(\"First worker hours: \" + repr(first))\n",
        "print(\"Second worker hours: \" + repr(second))\n",
        "print(\"Third worker hours: \" + repr(third))\n",
        "print(\"Fourth worker hours: \" + repr(fourth))\n",
        "print(\"All workers hours: \" + repr(first + second + third + fourth))"
      ]
    },
    {
      "cell_type": "markdown",
      "metadata": {
        "id": "ii-tmeSpTm3P"
      },
      "source": [
        "---\n",
        "\n",
        "# Задание 2\n",
        "\n",
        "Напишите функцию *time_metric_down(time, metric, metric_down)*, которая на вход принимает три значения:\n",
        "- time - количество единиц времени, целое число;\n",
        "- metric - единица измерения времени ('w', 'd', 'h', 'm');\n",
        "- metric_down - в какой единице измерения необходимо получить результат ('d', 'h', 'm', 's');\n",
        "\n",
        "В этой задаче metric_down является меньшей единицей измерения, чем metric.\n",
        "\n",
        "Пример реализации функции:\n",
        "\n",
        "*time_metric_down(10, 'h', 's')*\n",
        "\n",
        "*>>> 36000*\n",
        "\n",
        "Т.е. в 10 часах содержится 36000 секунд.\n",
        "\n",
        "---"
      ]
    },
    {
      "cell_type": "code",
      "execution_count": null,
      "metadata": {
        "colab": {
          "base_uri": "https://localhost:8080/"
        },
        "id": "dJYZLkcQTm3P",
        "outputId": "4ee5f717-3cea-44a6-cda6-820c5c1e6b13"
      },
      "outputs": [
        {
          "name": "stdout",
          "output_type": "stream",
          "text": [
            "Ошибки не выявлены\n"
          ]
        }
      ],
      "source": [
        "\"\"\"Решение задания 2\"\"\"\n",
        "\n",
        "def X60(value, flag):\n",
        "    if flag == 1:\n",
        "        return value * 60\n",
        "    elif flag == 0:\n",
        "        return value / 60\n",
        "    else:\n",
        "        return -1\n",
        "def X24(value, flag):\n",
        "    if flag == 1:\n",
        "        return value * 24\n",
        "    elif flag == 0:\n",
        "        return value / 24\n",
        "    else:\n",
        "        return -1\n",
        "def X7(value, flag):\n",
        "    if flag == 1:\n",
        "        return value * 7\n",
        "    elif flag == 0:\n",
        "        return value / 7\n",
        "    else:\n",
        "        return -1\n",
        "        \n",
        "def time_metric_down(time, metric, metric_down):\n",
        "    inW = 0\n",
        "    inD = 0\n",
        "    inH = 0\n",
        "    inM = 0\n",
        "    inS = 0\n",
        "    if metric != 'w' and metric != 'd' and metric != 'h' and metric != 's' \\\n",
        "        and metric != 'm':\n",
        "        return -1\n",
        "    if metric_down != 'w' and metric_down != 'd' and metric_down != 'h'\\\n",
        "         and metric_down != 's' and metric_down != 'm':\n",
        "        return -1\n",
        "    if time < 0 or time > 9223372036854775807:\n",
        "        return -1\n",
        "    if metric == 'w':\n",
        "        inW = time\n",
        "        inD = X7(time, 1)\n",
        "        inH = X24(inD, 1)\n",
        "        inM = X60(inH, 1)\n",
        "        inS = X60(inM, 1)\n",
        "    if metric == 'd':\n",
        "        inD = time\n",
        "        inW = X7(inD, 0)\n",
        "        inH = X24(inD, 1)\n",
        "        inM = X60(inH, 1)\n",
        "        inS = X60(inM, 1)\n",
        "    if metric == 'h':\n",
        "        inH = time\n",
        "        inD = X24(inH, 0)\n",
        "        inW = X7(inD, 0)\n",
        "        inM = X60(inH, 1)\n",
        "        inS = X60(inM, 1)\n",
        "    if metric == 'm':\n",
        "        inM = time\n",
        "        inS = X60(inM, 1)\n",
        "        inH = X60(inM, 0)\n",
        "        inD = X24(inH, 0)\n",
        "        inW = X7(inD, 0)\n",
        "    if metric == 's':\n",
        "        inS = time\n",
        "        inM = X60(inS, 0)\n",
        "        inH = X60(inM, 0)\n",
        "        inD = X24(inH, 0)\n",
        "        inW = X24(inD, 0)\n",
        "    if metric_down == 'w':\n",
        "        return inW\n",
        "    if metric_down == 'd':\n",
        "        return inD\n",
        "    if metric_down == 'h':\n",
        "        return inH\n",
        "    if metric_down == 'm':\n",
        "        return inM\n",
        "    if metric_down == 's':\n",
        "        return inS\n",
        "\n",
        "if (time_metric_down(10, 'h', 's') == 36000 and time_metric_down(1, 'w', 'd') == 7 and \n",
        "    time_metric_down(1, 'w', 'h') == 168 and time_metric_down(1, 'w', 'm') == 10080 and \n",
        "    time_metric_down(1, 'w', 's') == 604800):\n",
        "    print('Ошибки не выявлены')\n",
        "else:\n",
        "    print('Выявлены ошибки')"
      ]
    },
    {
      "cell_type": "markdown",
      "metadata": {
        "id": "t6tDXiWeTm3a"
      },
      "source": [
        "---\n",
        "\n",
        "# Задание 3\n",
        "\n",
        "***n!*** - это факториал числа n, т.е. произведение всех целых чисел от 1 до n включительно. 0!=1\n",
        "\n",
        "Требуется реализовать не менее, чем тремя способами, нахождение *n!* и определить эффективный способ расчета. Реализовать код необходимо через функцию *fctrl(n)*, в которую подается число n. Можно использовать любое количество дополнительных функций. После нахождения эффективного метода расчета факториала числа n, нужно переписать код в функцию *best_fctrl(n)*. Один из способов обязательно должен использовать библиотеку math.\n",
        "\n",
        "*Подсказка*: можете пробовать использовать различные встроенные или внешние библиотеки, рекурсию, циклы. Замер скорости исполнения нужно проводить на достаточно большом значении аргумента n, например, при n=1000.\n",
        "\n",
        "---"
      ]
    },
    {
      "cell_type": "code",
      "execution_count": 8,
      "metadata": {
        "colab": {
          "base_uri": "https://localhost:8080/"
        },
        "id": "WASwM_65Tm3b",
        "outputId": "10721625-87fe-452f-c060-e28fa7347993"
      },
      "outputs": [
        {
          "name": "stdout",
          "output_type": "stream",
          "text": [
            "All right!\n",
            "'factorial1' - 73.97845835056674%\n",
            "'factorial2' - 100.0%\n",
            "'factorial3' - 12.823176269970718%\n"
          ]
        }
      ],
      "source": [
        "\"\"\"Решение задания 3\"\"\"\n",
        "\n",
        "import math\n",
        "from timeit import timeit\n",
        "import numpy as np\n",
        "n = 10\n",
        "\n",
        "def factorial1(n):\n",
        "    res = 1\n",
        "    while n > 1:\n",
        "        res *= n\n",
        "        n -= 1\n",
        "    return res\n",
        "\n",
        "def factorial2(n):\n",
        "    if n == 0:\n",
        "        return 1\n",
        "    return factorial2(n-1) * n\n",
        "\n",
        "def factorial3(n):\n",
        "    return math.factorial(n)\n",
        "\n",
        "def best_fctrl(n):\n",
        "    return math.factorial(n)\n",
        "\n",
        "\n",
        "if (best_fctrl(0) == 1 and best_fctrl(1) == 1 and best_fctrl(2) == 2 and best_fctrl(3) == 6 and \n",
        "    best_fctrl(10) == 3628800):\n",
        "    print(\"All right!\")\n",
        "else:\n",
        "    print(\"Bad Answer!\")\n",
        "\n",
        "func = ['factorial1', 'factorial2', 'factorial3']\n",
        "time = []\n",
        "\n",
        "if __name__ == '__main__':\n",
        "    for j in func:\n",
        "        time.append(timeit(j+'(10)', setup = 'from __main__ import '+j, number = 100))\n",
        "time = np.array(time)\n",
        "time = time*100/time.max()\n",
        "\n",
        "for i, j in zip(func, time):\n",
        "    print(repr(i) + ' - ' + repr(j)+ '%')\n",
        "        "
      ]
    },
    {
      "cell_type": "markdown",
      "metadata": {
        "id": "WqDmKz8kTm3d"
      },
      "source": [
        "---\n",
        "\n",
        "# Задание 4\n",
        "\n",
        "Требуется написать код, который высчитывает минимальное требуемое количество сотрудников, выполняющих однотипную работу, в предположении, что все сотрудники единовременно выполняют одну единицу работы за одинаковое время и без перерывов. Код должен состоять из пользовательской функции, выполняющей все расчеты, и запроса информации от пользователей.\n",
        "\n",
        "Общий принцип работы кода:\n",
        "1. От пользователя последовательно запрашивается информация:\n",
        "    - *workers* - количество сотрудников, которые уже выполняют задачи;\n",
        "    - *tasks* - количество задач, которые нужно выполнить;\n",
        "    - *time* - время, за которое выполняется одна задача (все задачи выполняются за равное количество времени);\n",
        "    - *overall_time* - время, в которое нужно уложиться при выполнении задач.\n",
        "\n",
        "  Эти же данные передаются в функцию *new_workers()*.\n",
        "2. Функции *new_workers()* передается вся полученная информация.\n",
        "3. Функция *new_workers()* производит расчеты и возвращает минимальное количество сотрудников для выполнения всех задач за заданное время *overall_time*.\n",
        "4. На экран выводится результат *new_workers()*.\n",
        "\n",
        "---\n",
        "\n",
        "Пример выполнения:\n",
        "\n",
        "Вводится следующая информация:\n",
        "\n",
        "- *workers = 3*\n",
        "- *tasks = 6* \n",
        "- *time = 2* \n",
        "- *overall_time = 3*\n",
        "\n",
        "Вывод:\n",
        "\n",
        "*new_workers = 3*\n",
        "\n",
        "Пояснение:\n",
        "\n",
        "Сейчас у нас есть 3 работника, то есть параллельно мы можем выполнять максимум 3 задачи. Каждая задача занимает 2 единицы времени. Чтобы выполнить 6 задач за 3 единицы времени, нам придется распараллелить их все сразу, т.е. нанять еще троих работников.\n",
        "\n",
        "---\n",
        "\n",
        "*Примечание: вводиться должны иcключительно целые положительные числа!*"
      ]
    },
    {
      "cell_type": "code",
      "execution_count": 1,
      "metadata": {
        "id": "bWoPglEB03x6"
      },
      "outputs": [
        {
          "name": "stdout",
          "output_type": "stream",
          "text": [
            "new_workers = 0\n"
          ]
        }
      ],
      "source": [
        "# выполнение задания 4\n",
        "try:\n",
        "    workers = int(input(\"Enter the number of employees: \"))\n",
        "except Exception:\n",
        "    print(\"Enter the corrent number of employees!\")\n",
        "    exit(-1)\n",
        "if workers < 0:\n",
        "    print(\"Enter the corrent number of employees!\")\n",
        "    exit(-1)\n",
        "try:\n",
        "    tasks = int(input(\"Enter the number of tasks to be completed: \"))\n",
        "except Exception:\n",
        "    print(\"Enter the corrent number of tasks!\")\n",
        "    exit(-1)\n",
        "if tasks <= 0:\n",
        "    print(\"Enter the corrent number of tasks!\")\n",
        "    exit(-1)\n",
        "try:\n",
        "    time = int(input(\"Enter the time it takes to complete one task: \"))\n",
        "except Exception:\n",
        "    print(\"Enter the corrent time it takes to complete one task!\")\n",
        "    exit(-1)\n",
        "if time <= 0:\n",
        "    print(\"Enter the corrent time it takes to complete one task!\")\n",
        "    exit(-1)\n",
        "try:\n",
        "    overall_time = int(input(\"Enter the time to complete tasks: \"))\n",
        "except Exception:\n",
        "    print(\"Enter the corrent time to complete tasks!\")\n",
        "    exit(-1)\n",
        "if overall_time <= 0:\n",
        "    print(\"Enter the corrent time to complete tasks!\")\n",
        "    exit(-1)\n",
        "\n",
        "def new_workers(w, ta, ti,o):\n",
        "    if o < ti:\n",
        "        return \"Unrealistic conditions!\"\n",
        "    round = o // ti\n",
        "    i = 0\n",
        "    res = ta\n",
        "    p = 0\n",
        "    if round == 1:\n",
        "        res = res - w\n",
        "        if res < 0:\n",
        "            return \"Number of extra workers: \" + repr(res * -1)\n",
        "        return res\n",
        "    if round > res:\n",
        "        return 0\n",
        "    else:\n",
        "        p = res % round\n",
        "        res = res / round + p - w\n",
        "        if res < 0:\n",
        "            return \"Number of extra workers: \" + repr(res * -1)\n",
        "        return res\n",
        "res = new_workers(workers, tasks, time, overall_time)\n",
        "print(\"new_workers = \" + repr(res))"
      ]
    },
    {
      "cell_type": "markdown",
      "metadata": {
        "id": "YOmljntsTm3e"
      },
      "source": [
        "---\n",
        "\n",
        "На этом day00 завершен. Неоднозначное соответствие единиц измерения времени рассмотрим в day01."
      ]
    }
  ],
  "metadata": {
    "colab": {
      "collapsed_sections": [],
      "name": "d00_desc.ipynb",
      "provenance": []
    },
    "kernelspec": {
      "display_name": "Python 3",
      "language": "python",
      "name": "python3"
    },
    "language_info": {
      "codemirror_mode": {
        "name": "ipython",
        "version": 3
      },
      "file_extension": ".py",
      "mimetype": "text/x-python",
      "name": "python",
      "nbconvert_exporter": "python",
      "pygments_lexer": "ipython3",
      "version": "3.7.8"
    }
  },
  "nbformat": 4,
  "nbformat_minor": 0
}
